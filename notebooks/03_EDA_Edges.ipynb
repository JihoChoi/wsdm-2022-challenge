{
 "cells": [
  {
   "cell_type": "markdown",
   "id": "af53e9e1-3586-4860-97d0-63d690ecbc7f",
   "metadata": {},
   "source": [
    "### Edge Types"
   ]
  },
  {
   "cell_type": "markdown",
   "id": "aab9b5f3-4659-47fa-b2c6-c0ae7abb9bec",
   "metadata": {},
   "source": [
    "### Setup"
   ]
  },
  {
   "cell_type": "code",
   "execution_count": 1,
   "id": "3b5c1162-0412-4dcf-8f4c-c4264be069ea",
   "metadata": {},
   "outputs": [],
   "source": [
    "import sys\n",
    "import os\n",
    "import datetime\n",
    "\n",
    "import numpy as np\n",
    "import pandas as pd\n",
    "import matplotlib.pyplot as plt\n",
    "import seaborn as sns\n",
    "\n",
    "import networkx as nx\n",
    "\n",
    "%matplotlib inline"
   ]
  },
  {
   "cell_type": "code",
   "execution_count": 2,
   "id": "e9d58e22-310e-4980-a90a-ad23fb5f2ee7",
   "metadata": {},
   "outputs": [
    {
     "name": "stdout",
     "output_type": "stream",
     "text": [
      "FILES\n",
      "['edge_type_features.csv', 'edges_train_A.csv', 'edges_train_B.csv', 'node_features.csv']\n",
      "['input_A.csv', 'input_A_initial.csv', 'input_B.csv', 'input_B_initial.csv']\n"
     ]
    }
   ],
   "source": [
    "DATA_DIR = \"../data/wsdm-2022\"\n",
    "\n",
    "print(\"FILES\")\n",
    "print(sorted(os.listdir(f\"{DATA_DIR}/train\")))\n",
    "print(sorted(os.listdir(f\"{DATA_DIR}/test\")))"
   ]
  },
  {
   "cell_type": "code",
   "execution_count": 3,
   "id": "f15ecb31-3c9c-4f86-978c-ce2b0595ee4d",
   "metadata": {},
   "outputs": [],
   "source": [
    "edge_list = pd.read_csv(\n",
    "    f\"{DATA_DIR}/train/edges_train_A.csv\",\n",
    "    header=None,\n",
    "    names=['src_id', 'dst_id', 'edge_type', 'timestamp'],\n",
    "    dtype={'src_id': str, 'dst_id': str, 'edge_type': str, 'timestamp': int},\n",
    ").sort_values('timestamp')"
   ]
  },
  {
   "cell_type": "code",
   "execution_count": 4,
   "id": "9fc9bf05-a0bb-4b42-80b6-7874f411fa68",
   "metadata": {},
   "outputs": [
    {
     "name": "stdout",
     "output_type": "stream",
     "text": [
      "EDGEs: 27045268\n"
     ]
    },
    {
     "data": {
      "text/html": [
       "<div>\n",
       "<style scoped>\n",
       "    .dataframe tbody tr th:only-of-type {\n",
       "        vertical-align: middle;\n",
       "    }\n",
       "\n",
       "    .dataframe tbody tr th {\n",
       "        vertical-align: top;\n",
       "    }\n",
       "\n",
       "    .dataframe thead th {\n",
       "        text-align: right;\n",
       "    }\n",
       "</style>\n",
       "<table border=\"1\" class=\"dataframe\">\n",
       "  <thead>\n",
       "    <tr style=\"text-align: right;\">\n",
       "      <th></th>\n",
       "      <th>src_id</th>\n",
       "      <th>dst_id</th>\n",
       "      <th>edge_type</th>\n",
       "      <th>timestamp</th>\n",
       "    </tr>\n",
       "  </thead>\n",
       "  <tbody>\n",
       "    <tr>\n",
       "      <th>0</th>\n",
       "      <td>106</td>\n",
       "      <td>28905</td>\n",
       "      <td>96</td>\n",
       "      <td>1413662400</td>\n",
       "    </tr>\n",
       "    <tr>\n",
       "      <th>904</th>\n",
       "      <td>28905</td>\n",
       "      <td>5776</td>\n",
       "      <td>33</td>\n",
       "      <td>1413662400</td>\n",
       "    </tr>\n",
       "    <tr>\n",
       "      <th>903</th>\n",
       "      <td>28905</td>\n",
       "      <td>5502</td>\n",
       "      <td>69</td>\n",
       "      <td>1413662400</td>\n",
       "    </tr>\n",
       "    <tr>\n",
       "      <th>902</th>\n",
       "      <td>28905</td>\n",
       "      <td>5450</td>\n",
       "      <td>237</td>\n",
       "      <td>1413662400</td>\n",
       "    </tr>\n",
       "    <tr>\n",
       "      <th>901</th>\n",
       "      <td>28905</td>\n",
       "      <td>3784</td>\n",
       "      <td>15</td>\n",
       "      <td>1413662400</td>\n",
       "    </tr>\n",
       "  </tbody>\n",
       "</table>\n",
       "</div>"
      ],
      "text/plain": [
       "    src_id dst_id edge_type   timestamp\n",
       "0      106  28905        96  1413662400\n",
       "904  28905   5776        33  1413662400\n",
       "903  28905   5502        69  1413662400\n",
       "902  28905   5450       237  1413662400\n",
       "901  28905   3784        15  1413662400"
      ]
     },
     "execution_count": 4,
     "metadata": {},
     "output_type": "execute_result"
    }
   ],
   "source": [
    "print(f\"EDGEs: {len(edge_list)}\")\n",
    "edge_list.head()"
   ]
  },
  {
   "cell_type": "code",
   "execution_count": 5,
   "id": "eb52eed4-664d-491f-bf1a-4eeacd43bc4f",
   "metadata": {},
   "outputs": [
    {
     "data": {
      "text/html": [
       "<div>\n",
       "<style scoped>\n",
       "    .dataframe tbody tr th:only-of-type {\n",
       "        vertical-align: middle;\n",
       "    }\n",
       "\n",
       "    .dataframe tbody tr th {\n",
       "        vertical-align: top;\n",
       "    }\n",
       "\n",
       "    .dataframe thead th {\n",
       "        text-align: right;\n",
       "    }\n",
       "</style>\n",
       "<table border=\"1\" class=\"dataframe\">\n",
       "  <thead>\n",
       "    <tr style=\"text-align: right;\">\n",
       "      <th></th>\n",
       "      <th>src_id</th>\n",
       "      <th>dst_id</th>\n",
       "      <th>edge_type</th>\n",
       "      <th>timestamp</th>\n",
       "      <th>datetime</th>\n",
       "      <th>date</th>\n",
       "    </tr>\n",
       "  </thead>\n",
       "  <tbody>\n",
       "    <tr>\n",
       "      <th>0</th>\n",
       "      <td>106</td>\n",
       "      <td>28905</td>\n",
       "      <td>96</td>\n",
       "      <td>1413662400</td>\n",
       "      <td>20141019_050000</td>\n",
       "      <td>20141019</td>\n",
       "    </tr>\n",
       "    <tr>\n",
       "      <th>904</th>\n",
       "      <td>28905</td>\n",
       "      <td>5776</td>\n",
       "      <td>33</td>\n",
       "      <td>1413662400</td>\n",
       "      <td>20141019_050000</td>\n",
       "      <td>20141019</td>\n",
       "    </tr>\n",
       "    <tr>\n",
       "      <th>903</th>\n",
       "      <td>28905</td>\n",
       "      <td>5502</td>\n",
       "      <td>69</td>\n",
       "      <td>1413662400</td>\n",
       "      <td>20141019_050000</td>\n",
       "      <td>20141019</td>\n",
       "    </tr>\n",
       "    <tr>\n",
       "      <th>902</th>\n",
       "      <td>28905</td>\n",
       "      <td>5450</td>\n",
       "      <td>237</td>\n",
       "      <td>1413662400</td>\n",
       "      <td>20141019_050000</td>\n",
       "      <td>20141019</td>\n",
       "    </tr>\n",
       "    <tr>\n",
       "      <th>901</th>\n",
       "      <td>28905</td>\n",
       "      <td>3784</td>\n",
       "      <td>15</td>\n",
       "      <td>1413662400</td>\n",
       "      <td>20141019_050000</td>\n",
       "      <td>20141019</td>\n",
       "    </tr>\n",
       "    <tr>\n",
       "      <th>...</th>\n",
       "      <td>...</td>\n",
       "      <td>...</td>\n",
       "      <td>...</td>\n",
       "      <td>...</td>\n",
       "      <td>...</td>\n",
       "      <td>...</td>\n",
       "    </tr>\n",
       "    <tr>\n",
       "      <th>27044335</th>\n",
       "      <td>68926</td>\n",
       "      <td>1948</td>\n",
       "      <td>65</td>\n",
       "      <td>1494705600</td>\n",
       "      <td>20170514_050000</td>\n",
       "      <td>20170514</td>\n",
       "    </tr>\n",
       "    <tr>\n",
       "      <th>27044334</th>\n",
       "      <td>68710</td>\n",
       "      <td>28905</td>\n",
       "      <td>151</td>\n",
       "      <td>1494705600</td>\n",
       "      <td>20170514_050000</td>\n",
       "      <td>20170514</td>\n",
       "    </tr>\n",
       "    <tr>\n",
       "      <th>27044333</th>\n",
       "      <td>68389</td>\n",
       "      <td>39520</td>\n",
       "      <td>242</td>\n",
       "      <td>1494705600</td>\n",
       "      <td>20170514_050000</td>\n",
       "      <td>20170514</td>\n",
       "    </tr>\n",
       "    <tr>\n",
       "      <th>27044341</th>\n",
       "      <td>1584</td>\n",
       "      <td>30055</td>\n",
       "      <td>242</td>\n",
       "      <td>1494705600</td>\n",
       "      <td>20170514_050000</td>\n",
       "      <td>20170514</td>\n",
       "    </tr>\n",
       "    <tr>\n",
       "      <th>27045267</th>\n",
       "      <td>69947</td>\n",
       "      <td>28905</td>\n",
       "      <td>220</td>\n",
       "      <td>1494705600</td>\n",
       "      <td>20170514_050000</td>\n",
       "      <td>20170514</td>\n",
       "    </tr>\n",
       "  </tbody>\n",
       "</table>\n",
       "<p>27045268 rows × 6 columns</p>\n",
       "</div>"
      ],
      "text/plain": [
       "         src_id dst_id edge_type   timestamp         datetime      date\n",
       "0           106  28905        96  1413662400  20141019_050000  20141019\n",
       "904       28905   5776        33  1413662400  20141019_050000  20141019\n",
       "903       28905   5502        69  1413662400  20141019_050000  20141019\n",
       "902       28905   5450       237  1413662400  20141019_050000  20141019\n",
       "901       28905   3784        15  1413662400  20141019_050000  20141019\n",
       "...         ...    ...       ...         ...              ...       ...\n",
       "27044335  68926   1948        65  1494705600  20170514_050000  20170514\n",
       "27044334  68710  28905       151  1494705600  20170514_050000  20170514\n",
       "27044333  68389  39520       242  1494705600  20170514_050000  20170514\n",
       "27044341   1584  30055       242  1494705600  20170514_050000  20170514\n",
       "27045267  69947  28905       220  1494705600  20170514_050000  20170514\n",
       "\n",
       "[27045268 rows x 6 columns]"
      ]
     },
     "execution_count": 5,
     "metadata": {},
     "output_type": "execute_result"
    }
   ],
   "source": [
    "timestamps = edge_list['timestamp'].copy()\n",
    "datetimes = timestamps.apply(\n",
    "    lambda x: datetime.datetime.fromtimestamp(x).strftime(\"%Y%m%d_%H%M%S\")\n",
    ")\n",
    "dates = timestamps.apply(\n",
    "    lambda x: datetime.datetime.fromtimestamp(x).strftime(\"%Y%m%d\")\n",
    ")\n",
    "edge_list['datetime'] = datetimes\n",
    "edge_list['date'] = dates\n",
    "edge_list"
   ]
  },
  {
   "cell_type": "markdown",
   "id": "5e930da8-ccb9-41e1-a0cc-d137183a8a10",
   "metadata": {},
   "source": [
    "### Edge Count (node pairs)"
   ]
  },
  {
   "cell_type": "code",
   "execution_count": 6,
   "id": "65c4f8ea-5c0b-496f-ae13-cb9ccfe57f0b",
   "metadata": {},
   "outputs": [],
   "source": [
    "# edge_list = edge_list_org.copy()\n",
    "# edge_list_org = edge_list.copy()\n",
    "# edge_list = edge_list[:5000]"
   ]
  },
  {
   "cell_type": "code",
   "execution_count": 7,
   "id": "c8899f52-1c33-42c3-897d-bbe8e35f2da8",
   "metadata": {},
   "outputs": [
    {
     "data": {
      "text/html": [
       "<div>\n",
       "<style scoped>\n",
       "    .dataframe tbody tr th:only-of-type {\n",
       "        vertical-align: middle;\n",
       "    }\n",
       "\n",
       "    .dataframe tbody tr th {\n",
       "        vertical-align: top;\n",
       "    }\n",
       "\n",
       "    .dataframe thead th {\n",
       "        text-align: right;\n",
       "    }\n",
       "</style>\n",
       "<table border=\"1\" class=\"dataframe\">\n",
       "  <thead>\n",
       "    <tr style=\"text-align: right;\">\n",
       "      <th></th>\n",
       "      <th>src_id</th>\n",
       "      <th>dst_id</th>\n",
       "      <th>count</th>\n",
       "    </tr>\n",
       "  </thead>\n",
       "  <tbody>\n",
       "    <tr>\n",
       "      <th>0</th>\n",
       "      <td>10001</td>\n",
       "      <td>18724</td>\n",
       "      <td>1</td>\n",
       "    </tr>\n",
       "    <tr>\n",
       "      <th>1</th>\n",
       "      <td>10001</td>\n",
       "      <td>22417</td>\n",
       "      <td>1</td>\n",
       "    </tr>\n",
       "    <tr>\n",
       "      <th>2</th>\n",
       "      <td>10001</td>\n",
       "      <td>26829</td>\n",
       "      <td>1</td>\n",
       "    </tr>\n",
       "    <tr>\n",
       "      <th>3</th>\n",
       "      <td>10001</td>\n",
       "      <td>27005</td>\n",
       "      <td>1</td>\n",
       "    </tr>\n",
       "    <tr>\n",
       "      <th>4</th>\n",
       "      <td>10001</td>\n",
       "      <td>27718</td>\n",
       "      <td>6</td>\n",
       "    </tr>\n",
       "    <tr>\n",
       "      <th>...</th>\n",
       "      <td>...</td>\n",
       "      <td>...</td>\n",
       "      <td>...</td>\n",
       "    </tr>\n",
       "    <tr>\n",
       "      <th>2037859</th>\n",
       "      <td>9993</td>\n",
       "      <td>28905</td>\n",
       "      <td>5</td>\n",
       "    </tr>\n",
       "    <tr>\n",
       "      <th>2037860</th>\n",
       "      <td>9993</td>\n",
       "      <td>44667</td>\n",
       "      <td>1</td>\n",
       "    </tr>\n",
       "    <tr>\n",
       "      <th>2037861</th>\n",
       "      <td>9993</td>\n",
       "      <td>49801</td>\n",
       "      <td>3</td>\n",
       "    </tr>\n",
       "    <tr>\n",
       "      <th>2037862</th>\n",
       "      <td>9993</td>\n",
       "      <td>56226</td>\n",
       "      <td>5</td>\n",
       "    </tr>\n",
       "    <tr>\n",
       "      <th>2037863</th>\n",
       "      <td>9993</td>\n",
       "      <td>65294</td>\n",
       "      <td>2</td>\n",
       "    </tr>\n",
       "  </tbody>\n",
       "</table>\n",
       "<p>2037864 rows × 3 columns</p>\n",
       "</div>"
      ],
      "text/plain": [
       "        src_id dst_id  count\n",
       "0        10001  18724      1\n",
       "1        10001  22417      1\n",
       "2        10001  26829      1\n",
       "3        10001  27005      1\n",
       "4        10001  27718      6\n",
       "...        ...    ...    ...\n",
       "2037859   9993  28905      5\n",
       "2037860   9993  44667      1\n",
       "2037861   9993  49801      3\n",
       "2037862   9993  56226      5\n",
       "2037863   9993  65294      2\n",
       "\n",
       "[2037864 rows x 3 columns]"
      ]
     },
     "execution_count": 7,
     "metadata": {},
     "output_type": "execute_result"
    }
   ],
   "source": [
    "edge_count = edge_list.groupby(['src_id', 'dst_id'])['timestamp'].count().reset_index(name='count')\n",
    "edge_count"
   ]
  },
  {
   "cell_type": "code",
   "execution_count": 8,
   "id": "ef2f3be9-554d-46a9-ab8e-7ecbfee2f2ac",
   "metadata": {},
   "outputs": [
    {
     "data": {
      "image/png": "[encoded data removed]",
      "text/plain": [
       "<Figure size 432x288 with 2 Axes>"
      ]
     },
     "metadata": {
      "needs_background": "light"
     },
     "output_type": "display_data"
    }
   ],
   "source": [
    "fig, ax = plt.subplots()\n",
    "series = edge_count.groupby('count')['src_id'].count()\n",
    "ax.hist(series, cumulative=True, histtype='step', bins=20000, color='tab:orange')\n",
    "\n",
    "ax.set_yscale('log')\n",
    "ax2 = ax.twinx()\n",
    "# series.hist(ax=ax2, bins=20, bottom=0.1)\n",
    "\n",
    "plt.show()"
   ]
  },
  {
   "cell_type": "code",
   "execution_count": 9,
   "id": "d2ed948b-c37e-42f8-925d-96de51f047a8",
   "metadata": {},
   "outputs": [
    {
     "data": {
      "text/html": [
       "<div>\n",
       "<style scoped>\n",
       "    .dataframe tbody tr th:only-of-type {\n",
       "        vertical-align: middle;\n",
       "    }\n",
       "\n",
       "    .dataframe tbody tr th {\n",
       "        vertical-align: top;\n",
       "    }\n",
       "\n",
       "    .dataframe thead th {\n",
       "        text-align: right;\n",
       "    }\n",
       "</style>\n",
       "<table border=\"1\" class=\"dataframe\">\n",
       "  <thead>\n",
       "    <tr style=\"text-align: right;\">\n",
       "      <th></th>\n",
       "      <th>src_id</th>\n",
       "      <th>dst_id</th>\n",
       "      <th>edge_type</th>\n",
       "      <th>count</th>\n",
       "    </tr>\n",
       "  </thead>\n",
       "  <tbody>\n",
       "    <tr>\n",
       "      <th>0</th>\n",
       "      <td>10001</td>\n",
       "      <td>18724</td>\n",
       "      <td>237</td>\n",
       "      <td>1</td>\n",
       "    </tr>\n",
       "    <tr>\n",
       "      <th>1</th>\n",
       "      <td>10001</td>\n",
       "      <td>22417</td>\n",
       "      <td>69</td>\n",
       "      <td>1</td>\n",
       "    </tr>\n",
       "    <tr>\n",
       "      <th>2</th>\n",
       "      <td>10001</td>\n",
       "      <td>26829</td>\n",
       "      <td>151</td>\n",
       "      <td>1</td>\n",
       "    </tr>\n",
       "    <tr>\n",
       "      <th>3</th>\n",
       "      <td>10001</td>\n",
       "      <td>27005</td>\n",
       "      <td>17</td>\n",
       "      <td>1</td>\n",
       "    </tr>\n",
       "    <tr>\n",
       "      <th>4</th>\n",
       "      <td>10001</td>\n",
       "      <td>27718</td>\n",
       "      <td>115</td>\n",
       "      <td>1</td>\n",
       "    </tr>\n",
       "    <tr>\n",
       "      <th>...</th>\n",
       "      <td>...</td>\n",
       "      <td>...</td>\n",
       "      <td>...</td>\n",
       "      <td>...</td>\n",
       "    </tr>\n",
       "    <tr>\n",
       "      <th>7045224</th>\n",
       "      <td>9993</td>\n",
       "      <td>49801</td>\n",
       "      <td>74</td>\n",
       "      <td>1</td>\n",
       "    </tr>\n",
       "    <tr>\n",
       "      <th>7045225</th>\n",
       "      <td>9993</td>\n",
       "      <td>56226</td>\n",
       "      <td>198</td>\n",
       "      <td>3</td>\n",
       "    </tr>\n",
       "    <tr>\n",
       "      <th>7045226</th>\n",
       "      <td>9993</td>\n",
       "      <td>56226</td>\n",
       "      <td>69</td>\n",
       "      <td>2</td>\n",
       "    </tr>\n",
       "    <tr>\n",
       "      <th>7045227</th>\n",
       "      <td>9993</td>\n",
       "      <td>65294</td>\n",
       "      <td>108</td>\n",
       "      <td>1</td>\n",
       "    </tr>\n",
       "    <tr>\n",
       "      <th>7045228</th>\n",
       "      <td>9993</td>\n",
       "      <td>65294</td>\n",
       "      <td>74</td>\n",
       "      <td>1</td>\n",
       "    </tr>\n",
       "  </tbody>\n",
       "</table>\n",
       "<p>7045229 rows × 4 columns</p>\n",
       "</div>"
      ],
      "text/plain": [
       "        src_id dst_id edge_type  count\n",
       "0        10001  18724       237      1\n",
       "1        10001  22417        69      1\n",
       "2        10001  26829       151      1\n",
       "3        10001  27005        17      1\n",
       "4        10001  27718       115      1\n",
       "...        ...    ...       ...    ...\n",
       "7045224   9993  49801        74      1\n",
       "7045225   9993  56226       198      3\n",
       "7045226   9993  56226        69      2\n",
       "7045227   9993  65294       108      1\n",
       "7045228   9993  65294        74      1\n",
       "\n",
       "[7045229 rows x 4 columns]"
      ]
     },
     "execution_count": 9,
     "metadata": {},
     "output_type": "execute_result"
    }
   ],
   "source": [
    "edge_count = edge_list.groupby(['src_id', 'dst_id', 'edge_type'])['timestamp'].count().reset_index(name='count')\n",
    "edge_count"
   ]
  },
  {
   "cell_type": "code",
   "execution_count": 10,
   "id": "b458fa81-94a3-4199-aa40-9fe671924660",
   "metadata": {},
   "outputs": [
    {
     "data": {
      "text/plain": [
       "count\n",
       "1        4645965\n",
       "2        1040173\n",
       "3         423971\n",
       "4         226194\n",
       "5         139863\n",
       "          ...   \n",
       "15301          1\n",
       "15374          1\n",
       "15772          1\n",
       "15837          1\n",
       "16664          1\n",
       "Name: src_id, Length: 1983, dtype: int64"
      ]
     },
     "execution_count": 10,
     "metadata": {},
     "output_type": "execute_result"
    }
   ],
   "source": [
    "edge_count.groupby('count')['src_id'].count()"
   ]
  },
  {
   "cell_type": "code",
   "execution_count": 11,
   "id": "805aac22-8d37-47d6-8eeb-582f1bec719a",
   "metadata": {},
   "outputs": [
    {
     "name": "stdout",
     "output_type": "stream",
     "text": [
      "27045268\n"
     ]
    }
   ],
   "source": [
    "print(len(edge_list))"
   ]
  },
  {
   "cell_type": "code",
   "execution_count": 12,
   "id": "0f8eaae9-6ab2-4b1b-8a99-a864d85f14da",
   "metadata": {},
   "outputs": [
    {
     "data": {
      "text/plain": [
       "537"
      ]
     },
     "execution_count": 12,
     "metadata": {},
     "output_type": "execute_result"
    }
   ],
   "source": [
    "series.idxmax()\n",
    "series.idxmin()"
   ]
  },
  {
   "cell_type": "code",
   "execution_count": 13,
   "id": "681ce193-ccea-4250-9b25-270d9b90c88a",
   "metadata": {},
   "outputs": [
    {
     "data": {
      "image/png": "[encoded data removed]",
      "text/plain": [
       "<Figure size 432x288 with 2 Axes>"
      ]
     },
     "metadata": {
      "needs_background": "light"
     },
     "output_type": "display_data"
    }
   ],
   "source": [
    "fig, ax = plt.subplots()\n",
    "series = edge_count.groupby('count')['src_id'].count()\n",
    "ax.hist(series, cumulative=True, histtype='step', bins=20000, color='tab:orange')\n",
    "\n",
    "ax.set_yscale('log')\n",
    "ax2 = ax.twinx()\n",
    "# series.hist(ax=ax2, bins=20, bottom=0.1)\n",
    "\n",
    "plt.show()"
   ]
  },
  {
   "cell_type": "code",
   "execution_count": null,
   "id": "cc3178fe-0e39-4b19-9b4d-d633ca8d0cad",
   "metadata": {},
   "outputs": [],
   "source": []
  },
  {
   "cell_type": "code",
   "execution_count": null,
   "id": "fe81a0f4-fe82-4bc7-a7e8-3ec9201f107d",
   "metadata": {},
   "outputs": [],
   "source": []
  }
 ],
 "metadata": {
  "kernelspec": {
   "display_name": "Python 3 (ipykernel)",
   "language": "python",
   "name": "python3"
  },
  "language_info": {
   "codemirror_mode": {
    "name": "ipython",
    "version": 3
   },
   "file_extension": ".py",
   "mimetype": "text/x-python",
   "name": "python",
   "nbconvert_exporter": "python",
   "pygments_lexer": "ipython3",
   "version": "3.8.10"
  }
 },
 "nbformat": 4,
 "nbformat_minor": 5
}
