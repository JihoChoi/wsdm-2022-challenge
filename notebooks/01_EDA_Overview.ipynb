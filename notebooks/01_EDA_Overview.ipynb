{
 "cells": [
  {
   "cell_type": "markdown",
   "id": "3241b9c6-a7a9-4f27-9de3-960975df2b89",
   "metadata": {},
   "source": [
    "### EDA\n",
    "\n",
    "### Datasets\n",
    "* Dataset A: a dynamic event graph with entities as nodes and different types of events as edges.\n",
    "* Dataset B: a user-item graph with users and items as nodes and different types of interactions as edges.\n",
    "* Train\n",
    "    * Dataset A\n",
    "        * edges_train_A.csv\n",
    "            * src_id -> dst_id, edge_type, timestamp\n",
    "        * node_features.csv\n",
    "            * node_id, anonymized categorical features\n",
    "        * edge_type_features.csv\n",
    "            * edge_id, anonymized categorical features\n",
    "    * Dataset B\n",
    "        * edges_train_B.csv\n",
    "            * src_id -> dst_id, edge_type, timestamp, feat (anonymized edge features)\n",
    "* Test\n",
    "    * Dataset A / Dataset B\n",
    "        * src_id -> dst_id, edge_type, start_time, end_time\n",
    "\n",
    "\n",
    "### References\n",
    "* https://networkx.org/documentation/stable/reference/readwrite/edgelist.html\n",
    "* https://towardsdatascience.com/pyvis-visualize-interactive-network-graphs-in-python-77e059791f01"
   ]
  },
  {
   "cell_type": "code",
   "execution_count": 1,
   "id": "e87ff17d-f6ec-4860-940e-f4812930b9ec",
   "metadata": {},
   "outputs": [],
   "source": [
    "import sys\n",
    "import os\n",
    "import datetime\n",
    "\n",
    "import numpy as np\n",
    "import pandas as pd\n",
    "import matplotlib.pyplot as plt\n",
    "import seaborn as sns\n",
    "\n",
    "import networkx as nx\n",
    "\n",
    "%matplotlib inline"
   ]
  },
  {
   "cell_type": "code",
   "execution_count": 2,
   "id": "d5ff12d2-91e2-417e-8bc0-a7ce0282f79a",
   "metadata": {},
   "outputs": [
    {
     "name": "stdout",
     "output_type": "stream",
     "text": [
      "FILES\n",
      "['edge_type_features.csv', 'edges_train_A.csv', 'edges_train_B.csv', 'node_features.csv']\n",
      "['input_A.csv', 'input_A_initial.csv', 'input_B.csv', 'input_B_initial.csv']\n"
     ]
    }
   ],
   "source": [
    "DATA_DIR = \"../data/wsdm-2022\"\n",
    "\n",
    "print(\"FILES\")\n",
    "print(sorted(os.listdir(f\"{DATA_DIR}/train\")))\n",
    "print(sorted(os.listdir(f\"{DATA_DIR}/test\")))"
   ]
  },
  {
   "cell_type": "code",
   "execution_count": 3,
   "id": "3edb7b26-9283-4386-b7b7-7335ecc41a03",
   "metadata": {},
   "outputs": [],
   "source": [
    "edge_list = pd.read_csv(\n",
    "    f\"{DATA_DIR}/train/edges_train_A.csv\",\n",
    "    header=None,\n",
    "    names=['src_id', 'dst_id', 'edge_type', 'timestamp'],\n",
    "    dtype={'src_id': str, 'dst_id': str, 'edge_type': str, 'timestamp': int},\n",
    ").sort_values('timestamp')"
   ]
  },
  {
   "cell_type": "code",
   "execution_count": 4,
   "id": "c67d4a61-2299-4ace-b9bd-f92fc3ef3594",
   "metadata": {},
   "outputs": [
    {
     "name": "stdout",
     "output_type": "stream",
     "text": [
      "27045268\n"
     ]
    },
    {
     "data": {
      "text/html": [
       "<div>\n",
       "<style scoped>\n",
       "    .dataframe tbody tr th:only-of-type {\n",
       "        vertical-align: middle;\n",
       "    }\n",
       "\n",
       "    .dataframe tbody tr th {\n",
       "        vertical-align: top;\n",
       "    }\n",
       "\n",
       "    .dataframe thead th {\n",
       "        text-align: right;\n",
       "    }\n",
       "</style>\n",
       "<table border=\"1\" class=\"dataframe\">\n",
       "  <thead>\n",
       "    <tr style=\"text-align: right;\">\n",
       "      <th></th>\n",
       "      <th>src_id</th>\n",
       "      <th>dst_id</th>\n",
       "      <th>edge_type</th>\n",
       "      <th>timestamp</th>\n",
       "    </tr>\n",
       "  </thead>\n",
       "  <tbody>\n",
       "    <tr>\n",
       "      <th>0</th>\n",
       "      <td>106</td>\n",
       "      <td>28905</td>\n",
       "      <td>96</td>\n",
       "      <td>1413662400</td>\n",
       "    </tr>\n",
       "    <tr>\n",
       "      <th>904</th>\n",
       "      <td>28905</td>\n",
       "      <td>5776</td>\n",
       "      <td>33</td>\n",
       "      <td>1413662400</td>\n",
       "    </tr>\n",
       "    <tr>\n",
       "      <th>903</th>\n",
       "      <td>28905</td>\n",
       "      <td>5502</td>\n",
       "      <td>69</td>\n",
       "      <td>1413662400</td>\n",
       "    </tr>\n",
       "    <tr>\n",
       "      <th>902</th>\n",
       "      <td>28905</td>\n",
       "      <td>5450</td>\n",
       "      <td>237</td>\n",
       "      <td>1413662400</td>\n",
       "    </tr>\n",
       "    <tr>\n",
       "      <th>901</th>\n",
       "      <td>28905</td>\n",
       "      <td>3784</td>\n",
       "      <td>15</td>\n",
       "      <td>1413662400</td>\n",
       "    </tr>\n",
       "  </tbody>\n",
       "</table>\n",
       "</div>"
      ],
      "text/plain": [
       "    src_id dst_id edge_type   timestamp\n",
       "0      106  28905        96  1413662400\n",
       "904  28905   5776        33  1413662400\n",
       "903  28905   5502        69  1413662400\n",
       "902  28905   5450       237  1413662400\n",
       "901  28905   3784        15  1413662400"
      ]
     },
     "execution_count": 4,
     "metadata": {},
     "output_type": "execute_result"
    }
   ],
   "source": [
    "print(len(edge_list))\n",
    "edge_list.head()"
   ]
  },
  {
   "cell_type": "code",
   "execution_count": 5,
   "id": "36bf0f02-8bd0-48f7-8edc-fbb5a3329730",
   "metadata": {},
   "outputs": [
    {
     "data": {
      "text/html": [
       "<div>\n",
       "<style scoped>\n",
       "    .dataframe tbody tr th:only-of-type {\n",
       "        vertical-align: middle;\n",
       "    }\n",
       "\n",
       "    .dataframe tbody tr th {\n",
       "        vertical-align: top;\n",
       "    }\n",
       "\n",
       "    .dataframe thead th {\n",
       "        text-align: right;\n",
       "    }\n",
       "</style>\n",
       "<table border=\"1\" class=\"dataframe\">\n",
       "  <thead>\n",
       "    <tr style=\"text-align: right;\">\n",
       "      <th></th>\n",
       "      <th>src_id</th>\n",
       "      <th>dst_id</th>\n",
       "      <th>edge_type</th>\n",
       "      <th>timestamp</th>\n",
       "      <th>datetime</th>\n",
       "      <th>date</th>\n",
       "    </tr>\n",
       "  </thead>\n",
       "  <tbody>\n",
       "    <tr>\n",
       "      <th>0</th>\n",
       "      <td>106</td>\n",
       "      <td>28905</td>\n",
       "      <td>96</td>\n",
       "      <td>1413662400</td>\n",
       "      <td>20141019_050000</td>\n",
       "      <td>20141019</td>\n",
       "    </tr>\n",
       "    <tr>\n",
       "      <th>904</th>\n",
       "      <td>28905</td>\n",
       "      <td>5776</td>\n",
       "      <td>33</td>\n",
       "      <td>1413662400</td>\n",
       "      <td>20141019_050000</td>\n",
       "      <td>20141019</td>\n",
       "    </tr>\n",
       "    <tr>\n",
       "      <th>903</th>\n",
       "      <td>28905</td>\n",
       "      <td>5502</td>\n",
       "      <td>69</td>\n",
       "      <td>1413662400</td>\n",
       "      <td>20141019_050000</td>\n",
       "      <td>20141019</td>\n",
       "    </tr>\n",
       "    <tr>\n",
       "      <th>902</th>\n",
       "      <td>28905</td>\n",
       "      <td>5450</td>\n",
       "      <td>237</td>\n",
       "      <td>1413662400</td>\n",
       "      <td>20141019_050000</td>\n",
       "      <td>20141019</td>\n",
       "    </tr>\n",
       "    <tr>\n",
       "      <th>901</th>\n",
       "      <td>28905</td>\n",
       "      <td>3784</td>\n",
       "      <td>15</td>\n",
       "      <td>1413662400</td>\n",
       "      <td>20141019_050000</td>\n",
       "      <td>20141019</td>\n",
       "    </tr>\n",
       "  </tbody>\n",
       "</table>\n",
       "</div>"
      ],
      "text/plain": [
       "    src_id dst_id edge_type   timestamp         datetime      date\n",
       "0      106  28905        96  1413662400  20141019_050000  20141019\n",
       "904  28905   5776        33  1413662400  20141019_050000  20141019\n",
       "903  28905   5502        69  1413662400  20141019_050000  20141019\n",
       "902  28905   5450       237  1413662400  20141019_050000  20141019\n",
       "901  28905   3784        15  1413662400  20141019_050000  20141019"
      ]
     },
     "execution_count": 5,
     "metadata": {},
     "output_type": "execute_result"
    }
   ],
   "source": [
    "timestamps = edge_list['timestamp'].copy()\n",
    "datetimes = timestamps.apply(\n",
    "    lambda x: datetime.datetime.fromtimestamp(x).strftime(\"%Y%m%d_%H%M%S\")\n",
    ")\n",
    "dates = timestamps.apply(\n",
    "    lambda x: datetime.datetime.fromtimestamp(x).strftime(\"%Y%m%d\")\n",
    ")\n",
    "edge_list['datetime'] = datetimes\n",
    "edge_list['date'] = dates\n",
    "edge_list.head()"
   ]
  },
  {
   "cell_type": "code",
   "execution_count": null,
   "id": "a94a3509-b8d1-4940-9b80-c33f63112c45",
   "metadata": {},
   "outputs": [],
   "source": []
  },
  {
   "cell_type": "code",
   "execution_count": null,
   "id": "fa6bc509-9855-46ca-88bb-610938ab0cfa",
   "metadata": {},
   "outputs": [],
   "source": []
  },
  {
   "cell_type": "markdown",
   "id": "4ca8d376-b689-4735-8dd4-be58d08cd60e",
   "metadata": {},
   "source": [
    "### Target"
   ]
  },
  {
   "cell_type": "code",
   "execution_count": 13,
   "id": "b00392fa-18ad-4dc6-a35c-91dbff5f72be",
   "metadata": {},
   "outputs": [
    {
     "data": {
      "text/html": [
       "<div>\n",
       "<style scoped>\n",
       "    .dataframe tbody tr th:only-of-type {\n",
       "        vertical-align: middle;\n",
       "    }\n",
       "\n",
       "    .dataframe tbody tr th {\n",
       "        vertical-align: top;\n",
       "    }\n",
       "\n",
       "    .dataframe thead th {\n",
       "        text-align: right;\n",
       "    }\n",
       "</style>\n",
       "<table border=\"1\" class=\"dataframe\">\n",
       "  <thead>\n",
       "    <tr style=\"text-align: right;\">\n",
       "      <th></th>\n",
       "      <th>src_id</th>\n",
       "      <th>dst_id</th>\n",
       "      <th>edge_type</th>\n",
       "      <th>start_timestamp</th>\n",
       "      <th>end_timestamp</th>\n",
       "      <th>start_time</th>\n",
       "      <th>end_time</th>\n",
       "      <th>time_diff</th>\n",
       "    </tr>\n",
       "  </thead>\n",
       "  <tbody>\n",
       "    <tr>\n",
       "      <th>0</th>\n",
       "      <td>19</td>\n",
       "      <td>6486</td>\n",
       "      <td>74</td>\n",
       "      <td>1496093495</td>\n",
       "      <td>1496282477</td>\n",
       "      <td>20170530_063135</td>\n",
       "      <td>20170601_110117</td>\n",
       "      <td>188982</td>\n",
       "    </tr>\n",
       "    <tr>\n",
       "      <th>1</th>\n",
       "      <td>19</td>\n",
       "      <td>11021</td>\n",
       "      <td>116</td>\n",
       "      <td>1497524067</td>\n",
       "      <td>1497720574</td>\n",
       "      <td>20170615_195427</td>\n",
       "      <td>20170618_022934</td>\n",
       "      <td>196507</td>\n",
       "    </tr>\n",
       "    <tr>\n",
       "      <th>2</th>\n",
       "      <td>19</td>\n",
       "      <td>28905</td>\n",
       "      <td>245</td>\n",
       "      <td>1497371665</td>\n",
       "      <td>1497538710</td>\n",
       "      <td>20170614_013425</td>\n",
       "      <td>20170615_235830</td>\n",
       "      <td>167045</td>\n",
       "    </tr>\n",
       "    <tr>\n",
       "      <th>3</th>\n",
       "      <td>19</td>\n",
       "      <td>32125</td>\n",
       "      <td>178</td>\n",
       "      <td>1497432877</td>\n",
       "      <td>1497633034</td>\n",
       "      <td>20170614_183437</td>\n",
       "      <td>20170617_021034</td>\n",
       "      <td>200157</td>\n",
       "    </tr>\n",
       "    <tr>\n",
       "      <th>4</th>\n",
       "      <td>19</td>\n",
       "      <td>44465</td>\n",
       "      <td>149</td>\n",
       "      <td>1495823478</td>\n",
       "      <td>1495989884</td>\n",
       "      <td>20170527_033118</td>\n",
       "      <td>20170529_014444</td>\n",
       "      <td>166406</td>\n",
       "    </tr>\n",
       "    <tr>\n",
       "      <th>...</th>\n",
       "      <td>...</td>\n",
       "      <td>...</td>\n",
       "      <td>...</td>\n",
       "      <td>...</td>\n",
       "      <td>...</td>\n",
       "      <td>...</td>\n",
       "      <td>...</td>\n",
       "      <td>...</td>\n",
       "    </tr>\n",
       "    <tr>\n",
       "      <th>49898</th>\n",
       "      <td>69948</td>\n",
       "      <td>28905</td>\n",
       "      <td>238</td>\n",
       "      <td>1494817089</td>\n",
       "      <td>1495000626</td>\n",
       "      <td>20170515_115809</td>\n",
       "      <td>20170517_145706</td>\n",
       "      <td>183537</td>\n",
       "    </tr>\n",
       "    <tr>\n",
       "      <th>49899</th>\n",
       "      <td>69948</td>\n",
       "      <td>45285</td>\n",
       "      <td>220</td>\n",
       "      <td>1495740412</td>\n",
       "      <td>1495906305</td>\n",
       "      <td>20170526_042652</td>\n",
       "      <td>20170528_023145</td>\n",
       "      <td>165893</td>\n",
       "    </tr>\n",
       "    <tr>\n",
       "      <th>49900</th>\n",
       "      <td>69961</td>\n",
       "      <td>20816</td>\n",
       "      <td>78</td>\n",
       "      <td>1496748482</td>\n",
       "      <td>1496986910</td>\n",
       "      <td>20170606_202802</td>\n",
       "      <td>20170609_144150</td>\n",
       "      <td>238428</td>\n",
       "    </tr>\n",
       "    <tr>\n",
       "      <th>49901</th>\n",
       "      <td>69961</td>\n",
       "      <td>33045</td>\n",
       "      <td>20</td>\n",
       "      <td>1497511922</td>\n",
       "      <td>1497656626</td>\n",
       "      <td>20170615_163202</td>\n",
       "      <td>20170617_084346</td>\n",
       "      <td>144704</td>\n",
       "    </tr>\n",
       "    <tr>\n",
       "      <th>49902</th>\n",
       "      <td>69971</td>\n",
       "      <td>47676</td>\n",
       "      <td>65</td>\n",
       "      <td>1497345133</td>\n",
       "      <td>1497569438</td>\n",
       "      <td>20170613_181213</td>\n",
       "      <td>20170616_083038</td>\n",
       "      <td>224305</td>\n",
       "    </tr>\n",
       "  </tbody>\n",
       "</table>\n",
       "<p>49903 rows × 8 columns</p>\n",
       "</div>"
      ],
      "text/plain": [
       "      src_id dst_id edge_type  start_timestamp  end_timestamp  \\\n",
       "0         19   6486        74       1496093495     1496282477   \n",
       "1         19  11021       116       1497524067     1497720574   \n",
       "2         19  28905       245       1497371665     1497538710   \n",
       "3         19  32125       178       1497432877     1497633034   \n",
       "4         19  44465       149       1495823478     1495989884   \n",
       "...      ...    ...       ...              ...            ...   \n",
       "49898  69948  28905       238       1494817089     1495000626   \n",
       "49899  69948  45285       220       1495740412     1495906305   \n",
       "49900  69961  20816        78       1496748482     1496986910   \n",
       "49901  69961  33045        20       1497511922     1497656626   \n",
       "49902  69971  47676        65       1497345133     1497569438   \n",
       "\n",
       "            start_time         end_time  time_diff  \n",
       "0      20170530_063135  20170601_110117     188982  \n",
       "1      20170615_195427  20170618_022934     196507  \n",
       "2      20170614_013425  20170615_235830     167045  \n",
       "3      20170614_183437  20170617_021034     200157  \n",
       "4      20170527_033118  20170529_014444     166406  \n",
       "...                ...              ...        ...  \n",
       "49898  20170515_115809  20170517_145706     183537  \n",
       "49899  20170526_042652  20170528_023145     165893  \n",
       "49900  20170606_202802  20170609_144150     238428  \n",
       "49901  20170615_163202  20170617_084346     144704  \n",
       "49902  20170613_181213  20170616_083038     224305  \n",
       "\n",
       "[49903 rows x 8 columns]"
      ]
     },
     "execution_count": 13,
     "metadata": {},
     "output_type": "execute_result"
    }
   ],
   "source": [
    "target_edge_list = pd.read_csv(\n",
    "    f\"{DATA_DIR}/test/input_A.csv\",\n",
    "    header=None,\n",
    "    names=['src_id', 'dst_id', 'edge_type', 'start_timestamp', 'end_timestamp'],\n",
    "    dtype={'src_id': str, 'dst_id': str, 'edge_type': str, 'start_timestamp': int, 'end_timestamp': int},\n",
    ")#.sort_values('timestamp')\n",
    "target_edge_list['start_time'] = target_edge_list['start_timestamp'].copy().apply(\n",
    "    lambda x: datetime.datetime.fromtimestamp(x).strftime(\"%Y%m%d_%H%M%S\")\n",
    ")\n",
    "target_edge_list['end_time'] = target_edge_list['end_timestamp'].copy().apply(\n",
    "    lambda x: datetime.datetime.fromtimestamp(x).strftime(\"%Y%m%d_%H%M%S\")\n",
    ")\n",
    "target_edge_list['time_diff'] = target_edge_list['end_timestamp'].copy() - target_edge_list['start_timestamp'].copy()\n",
    "target_edge_list"
   ]
  },
  {
   "cell_type": "code",
   "execution_count": 16,
   "id": "e04d20ef-b99c-4e61-9a26-ae3c3f025ac5",
   "metadata": {},
   "outputs": [
    {
     "name": "stdout",
     "output_type": "stream",
     "text": [
      "1.9989400520342802\n"
     ]
    }
   ],
   "source": [
    "print(target_edge_list['time_diff'].mean() / 60 / 60 / 24)"
   ]
  },
  {
   "cell_type": "code",
   "execution_count": null,
   "id": "f1ffc559-54f6-4b38-a166-3a0b0fbd7d66",
   "metadata": {},
   "outputs": [],
   "source": []
  },
  {
   "cell_type": "code",
   "execution_count": null,
   "id": "f48b42ad-8e29-4760-90aa-43d7b24d08d1",
   "metadata": {},
   "outputs": [],
   "source": []
  },
  {
   "cell_type": "code",
   "execution_count": null,
   "id": "3d908261-bbad-4746-9a91-0c182dbd90ea",
   "metadata": {},
   "outputs": [],
   "source": []
  },
  {
   "cell_type": "markdown",
   "id": "3f281962-fbd3-466f-be0f-4921677103b7",
   "metadata": {},
   "source": [
    "### Networks"
   ]
  },
  {
   "cell_type": "code",
   "execution_count": 6,
   "id": "2372f6c5-32f6-4d78-977d-90a52db85e06",
   "metadata": {},
   "outputs": [],
   "source": [
    "DG = nx.from_pandas_edgelist(\n",
    "    edge_list[:200],\n",
    "    source='src_id', target='dst_id',\n",
    "    edge_attr=True,\n",
    "    create_using=nx.DiGraph()\n",
    ")"
   ]
  },
  {
   "cell_type": "code",
   "execution_count": 7,
   "id": "4453f8a5-50e2-47e6-b6bd-7888af079006",
   "metadata": {},
   "outputs": [
    {
     "data": {
      "image/png": "[encoded data removed]",
      "text/plain": [
       "<Figure size 864x576 with 1 Axes>"
      ]
     },
     "metadata": {},
     "output_type": "display_data"
    }
   ],
   "source": [
    "from matplotlib.pyplot import figure, text\n",
    "\n",
    "fig, ax = plt.subplots(figsize=(12, 8))\n",
    "fig.set_tight_layout(False)\n",
    "\n",
    "pos = nx.kamada_kawai_layout(DG)\n",
    "# pos = nx.spring_layout(DG)\n",
    "# pos = nx.fruchterman_reingold_layout(G)  # TOO SLOW\n",
    "\n",
    "nx.draw(\n",
    "    DG, pos,\n",
    "    node_size=50,\n",
    "    # with_labels=True,\n",
    ")\n",
    "for node, (x, y) in pos.items():\n",
    "    text(x, y, node, fontsize=5, ha='center', va='center')"
   ]
  },
  {
   "cell_type": "code",
   "execution_count": null,
   "id": "1a0a5a8e-5758-4bc1-885c-c9dea5b78947",
   "metadata": {},
   "outputs": [],
   "source": []
  },
  {
   "cell_type": "code",
   "execution_count": 8,
   "id": "3690c77f-2134-44c7-b882-083401f3689d",
   "metadata": {},
   "outputs": [
    {
     "data": {
      "text/plain": [
       "27045268"
      ]
     },
     "execution_count": 8,
     "metadata": {},
     "output_type": "execute_result"
    }
   ],
   "source": [
    "len(edge_list)"
   ]
  },
  {
   "cell_type": "code",
   "execution_count": 9,
   "id": "1263c89b-2392-4e66-82a5-9ac615bb1adc",
   "metadata": {},
   "outputs": [],
   "source": [
    "G = nx.from_pandas_edgelist(\n",
    "    edge_list,\n",
    "    source='src_id', target='dst_id',\n",
    "    edge_attr=True,\n",
    "    create_using=nx.DiGraph()\n",
    ")"
   ]
  },
  {
   "cell_type": "code",
   "execution_count": 10,
   "id": "b5ed82a5-89fc-4143-8d28-1530e4ff2f96",
   "metadata": {},
   "outputs": [
    {
     "data": {
      "image/png": "[encoded data removed]",
      "text/plain": [
       "<Figure size 432x288 with 1 Axes>"
      ]
     },
     "metadata": {
      "needs_background": "light"
     },
     "output_type": "display_data"
    }
   ],
   "source": [
    "import matplotlib.pyplot as plt\n",
    "import networkx as nx\n",
    "\n",
    "def plot_degree_dist(G):\n",
    "    degrees = [G.degree(n) for n in G.nodes()]\n",
    "    plt.hist(\n",
    "        degrees,\n",
    "        bins=100,\n",
    "        log=True,\n",
    "    )\n",
    "    plt.show()\n",
    "\n",
    "plot_degree_dist(G)"
   ]
  },
  {
   "cell_type": "code",
   "execution_count": null,
   "id": "c121bc90-5202-44f2-940f-6342ded2459a",
   "metadata": {},
   "outputs": [],
   "source": []
  },
  {
   "cell_type": "code",
   "execution_count": 11,
   "id": "5e5adf14-210d-462c-9720-5915b1173b03",
   "metadata": {},
   "outputs": [],
   "source": [
    "from pyvis.network import Network\n",
    "\n",
    "net = Network()\n",
    "for index, row in edge_list[:5000].iterrows():\n",
    "    net.add_node(row['src_id'], label=row['src_id'])\n",
    "    net.add_node(row['dst_id'], label=row['dst_id'])\n",
    "    net.add_edge(row['src_id'], row['dst_id'])"
   ]
  },
  {
   "cell_type": "code",
   "execution_count": 12,
   "id": "a9c39e1f-d6c6-4f9c-b901-b258f156465f",
   "metadata": {},
   "outputs": [],
   "source": [
    "# net.show('nodes.html')"
   ]
  },
  {
   "cell_type": "markdown",
   "id": "19338e6b-8880-4a0a-ab63-fc5488f48597",
   "metadata": {},
   "source": [
    "<img src=\"../assets/pyvis_network_2022_0103_01.png\">"
   ]
  },
  {
   "cell_type": "code",
   "execution_count": null,
   "id": "59fb387f-5b89-4fe2-be83-8b38455671f9",
   "metadata": {},
   "outputs": [],
   "source": []
  },
  {
   "cell_type": "code",
   "execution_count": null,
   "id": "12638d23-8088-4aac-9da6-9febbc526bb2",
   "metadata": {},
   "outputs": [],
   "source": []
  },
  {
   "cell_type": "code",
   "execution_count": null,
   "id": "e70e36c2-c17a-4fcf-9fe0-14c851385b18",
   "metadata": {},
   "outputs": [],
   "source": []
  },
  {
   "cell_type": "code",
   "execution_count": null,
   "id": "fa7b3f30-f639-4b75-b1ec-5c886ac9db84",
   "metadata": {},
   "outputs": [],
   "source": []
  }
 ],
 "metadata": {
  "kernelspec": {
   "display_name": "Python 3 (ipykernel)",
   "language": "python",
   "name": "python3"
  },
  "language_info": {
   "codemirror_mode": {
    "name": "ipython",
    "version": 3
   },
   "file_extension": ".py",
   "mimetype": "text/x-python",
   "name": "python",
   "nbconvert_exporter": "python",
   "pygments_lexer": "ipython3",
   "version": "3.8.10"
  }
 },
 "nbformat": 4,
 "nbformat_minor": 5
}
